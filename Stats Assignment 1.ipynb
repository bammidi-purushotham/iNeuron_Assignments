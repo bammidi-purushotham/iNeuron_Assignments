{
 "cells": [
  {
   "cell_type": "code",
   "execution_count": 26,
   "metadata": {},
   "outputs": [],
   "source": [
    "import math\n",
    "import numpy as np\n",
    "import scipy.stats"
   ]
  },
  {
   "cell_type": "code",
   "execution_count": 36,
   "metadata": {},
   "outputs": [],
   "source": [
    "def mean_mode_median_std(a):\n",
    "    mean = np.mean(a)\n",
    "    mode = scipy.stats.mode(a)\n",
    "    median = np.median(a)\n",
    "    standard_deviation = np.std(a)\n",
    "    print(\"Problem Statement 1 : \")\n",
    "    print(\"Mean =\",mean)\n",
    "    print(mode)\n",
    "    print(\"Median =\",median)\n",
    "    print(\"Standard Deviation = \", standard_deviation)\n",
    "    "
   ]
  },
  {
   "cell_type": "code",
   "execution_count": 39,
   "metadata": {},
   "outputs": [
    {
     "name": "stdout",
     "output_type": "stream",
     "text": [
      "Problem Statement 1 : \n",
      "Mean = 6.85\n",
      "ModeResult(mode=array([7]), count=array([5]))\n",
      "Median = 7.0\n",
      "Standard Deviation =  1.5898113095584647\n"
     ]
    }
   ],
   "source": [
    "problem_1 = [6,7,5,7,7,8,7,6,9,7,4,10,6,8,8,9,5,6,4,8]\n",
    "mean_mode_median_std(problem_1)"
   ]
  },
  {
   "cell_type": "code",
   "execution_count": 40,
   "metadata": {},
   "outputs": [
    {
     "name": "stdout",
     "output_type": "stream",
     "text": [
      "Problem Statement 1 : \n",
      "Mean = 107.51428571428572\n",
      "ModeResult(mode=array([75]), count=array([4]))\n",
      "Median = 100.0\n",
      "Standard Deviation =  38.77287080168403\n"
     ]
    }
   ],
   "source": [
    "problem_2 = [28, 122, 217, 130, 120, 86, 80, 90, 140, 120, 70, 40, 145, 113, 90, 68, 174, 194, 170,\n",
    "100, 75, 104, 97, 75,\n",
    "123, 100, 75, 104, 97, 75, 123, 100, 89, 120, 109]\n",
    "\n",
    "mean_mode_median_std(problem_2)"
   ]
  },
  {
   "cell_type": "markdown",
   "metadata": {},
   "source": [
    "# Var(X) = Σx2p − μ2\n"
   ]
  },
  {
   "cell_type": "code",
   "execution_count": 56,
   "metadata": {},
   "outputs": [
    {
     "name": "stdout",
     "output_type": "stream",
     "text": [
      "mean =  2.15\n",
      "variance =  1.2275\n"
     ]
    }
   ],
   "source": [
    "x = 0, 1, 2, 3, 4, 5\n",
    "p= 0.09, 0.15, 0.40, 0.25, 0.10, 0.01\n",
    "mean=0\n",
    "vari=0\n",
    "abd=list(zip(x,p))\n",
    "for i in abd:\n",
    "    mean = mean+(i[0]*i[1])\n",
    "    vari = vari+((i[0]**2)*i[1])\n",
    "varience = (vari - (mean**2))\n",
    "print(\"mean = \", mean)\n",
    "print(\"variance = \", varience)"
   ]
  },
  {
   "cell_type": "markdown",
   "metadata": {},
   "source": [
    "# Problem 4\n"
   ]
  },
  {
   "cell_type": "code",
   "execution_count": null,
   "metadata": {},
   "outputs": [],
   "source": []
  },
  {
   "cell_type": "code",
   "execution_count": null,
   "metadata": {},
   "outputs": [],
   "source": []
  },
  {
   "cell_type": "code",
   "execution_count": null,
   "metadata": {},
   "outputs": [],
   "source": []
  }
 ],
 "metadata": {
  "kernelspec": {
   "display_name": "Python 3",
   "language": "python",
   "name": "python3"
  },
  "language_info": {
   "codemirror_mode": {
    "name": "ipython",
    "version": 3
   },
   "file_extension": ".py",
   "mimetype": "text/x-python",
   "name": "python",
   "nbconvert_exporter": "python",
   "pygments_lexer": "ipython3",
   "version": "3.7.1"
  }
 },
 "nbformat": 4,
 "nbformat_minor": 2
}
